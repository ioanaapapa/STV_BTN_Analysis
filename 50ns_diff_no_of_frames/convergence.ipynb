{
 "cells": [
  {
   "cell_type": "code",
   "execution_count": 8,
   "metadata": {},
   "outputs": [],
   "source": [
    "import pandas as pd\n",
    "import numpy as np\n",
    "import matplotlib.pyplot as plt\n",
    "from statistics import mean, stdev\n",
    "from math import sqrt"
   ]
  },
  {
   "cell_type": "markdown",
   "metadata": {},
   "source": [
    "### All for 1 unbound STV monomer - 50ns with different numbers of frames"
   ]
  },
  {
   "cell_type": "code",
   "execution_count": null,
   "metadata": {},
   "outputs": [],
   "source": [
    "STV_A_polymer_transvib_50ns = [67.4155,mean([67.5135,67.9029])]\n",
    "STV_A_polymer_transvib_50ns_errors = [0.066,stdev([])/sqrt(5),]\n",
    "STV_A_polymer_rovib_50ns = [63.1834,mean([63.0780,63.4905])]\n",
    "STV_A_polymer_rovib_50ns_errors = [0.076,stdev([])/sqrt(5)]\n",
    "\n",
    "STV_A_res_transvib_50ns = [2884.26262]\n",
    "STV_A_res_transvib_50ns_erors = [12.098]\n",
    "STV_A_res_rovib_50ns = [4832.6832,]\n",
    "STV_A_res_rovib_50ns_errors = [59.845]\n",
    "\n",
    "STV_A_uatom_50ns_transvib = [2450.4804,]\n",
    "STV_A_uatom_transvib_50ns_errors = [50.099]\n",
    "STV_A_uatom_rovib_50ns = [3957.9194]\n",
    "STV_A_uatom_rovib__50nserrors = [18.923]       \n",
    "\n",
    "STV_A_uatom_AEM_50ns = [411.5956,]\n",
    "STV_A_uatom_AEM_erors_50ns = [9.986] \n",
    "STV_A_res_AEM_50ns = [53.21,] #from Sarah's code\n",
    "STV_A_res_AEM_50ns_errors = [1.38]"
   ]
  },
  {
   "cell_type": "markdown",
   "metadata": {},
   "source": [
    "### All for 1 unbound STV monomer - 500ns with different numbers of frames"
   ]
  },
  {
   "cell_type": "code",
   "execution_count": 10,
   "metadata": {},
   "outputs": [
    {
     "ename": "NameError",
     "evalue": "name 'hold_for_2500_frames' is not defined",
     "output_type": "error",
     "traceback": [
      "\u001b[0;31m---------------------------------------------------------------------------\u001b[0m",
      "\u001b[0;31mNameError\u001b[0m                                 Traceback (most recent call last)",
      "Cell \u001b[0;32mIn[10], line 1\u001b[0m\n\u001b[0;32m----> 1\u001b[0m STV_A_polymer_transvib \u001b[38;5;241m=\u001b[39m [mean([\u001b[38;5;241m66.6001\u001b[39m,\u001b[38;5;241m67.2138\u001b[39m,\u001b[38;5;241m66.9121\u001b[39m,\u001b[38;5;241m67.2023\u001b[39m,\u001b[38;5;241m67.5760\u001b[39m]), hold_for_2500_frames]\n\u001b[1;32m      2\u001b[0m STV_A_polymer_transvib_errors \u001b[38;5;241m=\u001b[39m [stdev([\u001b[38;5;241m66.6001\u001b[39m,\u001b[38;5;241m67.2138\u001b[39m,\u001b[38;5;241m66.9121\u001b[39m,\u001b[38;5;241m67.2023\u001b[39m,\u001b[38;5;241m67.5760\u001b[39m])\u001b[38;5;241m/\u001b[39msqrt(\u001b[38;5;241m5\u001b[39m),]\n\u001b[1;32m      3\u001b[0m STV_A_polymer_rovib \u001b[38;5;241m=\u001b[39m [mean([\u001b[38;5;241m63.3840\u001b[39m,\u001b[38;5;241m63.4042\u001b[39m,\u001b[38;5;241m63.3368\u001b[39m,\u001b[38;5;241m63.2886\u001b[39m,\u001b[38;5;241m63.3398\u001b[39m]),hold_for_2500_frames]\n",
      "\u001b[0;31mNameError\u001b[0m: name 'hold_for_2500_frames' is not defined"
     ]
    }
   ],
   "source": [
    "STV_A_polymer_transvib_500ns = [mean([67.4509,67.5814]), mean([]),mean([]),mean([67.3414])]\n",
    "STV_A_polymer_transvib_500ns_errors = [stdev([])/sqrt(5),stdev([])/sqrt(5),stdev([])/sqrt(5),stdev([])/sqrt(5)]\n",
    "STV_A_polymer_rovib_500ns = [mean([45.0079,43.2777]), mean([]),mean([]),mean([44.6434])]\n",
    "STV_A_polymer_rovib_500ns_errors = [stdev([])/sqrt(5),stdev([])/sqrt(5),stdev([])/sqrt(5),stdev([])/sqrt(5)]\n",
    "\n",
    "STV_A_res_transvib_500ns = [mean([2744.4805,2757.0088]), mean([]),mean([]),mean([2450.7353])]\n",
    "STV_A_res_transvib_500ns_erors = [stdev([])/sqrt(5),stdev([])/sqrt(5),stdev([])/sqrt(5),stdev([])/sqrt(5)]\n",
    "STV_A_res_rovib_500ns = [mean([4696.3363,4531.9408]), mean([]),mean([]),mean([4329.3137])]\n",
    "STV_A_res_rovib_500ns_errors = [stdev([])/sqrt(5),stdev([])/sqrt(5),stdev([])/sqrt(5),stdev([])/sqrt(5)]\n",
    "\n",
    "STV_A_uatom_transvib_500ns = [mean([2022.158]), mean([]),mean([]),mean([])]\n",
    "STV_A_uatom_transvib_500ns_errors = [stdev([])/sqrt(5),stdev([])/sqrt(5),stdev([])/sqrt(5),stdev([])/sqrt(5)]\n",
    "STV_A_uatom_rovib_500ns = [mean([3763.054]), mean([]),mean([]),mean([])]\n",
    "STV_A_uatom_rovib_500ns_errors = [stdev([])/sqrt(5),stdev([])/sqrt(5),stdev([])/sqrt(5),stdev([])/sqrt(5)]      \n",
    "\n",
    "STV_A_uatom_AEM_500ns = [mean([1106.258]), mean([]),mean([]),mean([])]\n",
    "STV_A_uatom_AEM_500ns_erors = [stdev([])/sqrt(5),stdev([])/sqrt(5),stdev([])/sqrt(5),stdev([])/sqrt(5)]\n",
    "STV_A_res_AEM_500ns = [mean([]), mean([]),mean([]),mean([])] #from Sarah's code\n",
    "STV_A_res_AEM_500ns_errors = [stdev([])/sqrt(5),stdev([])/sqrt(5),stdev([])/sqrt(5),stdev([])/sqrt(5)]\n",
    "\n",
    "frame_no = [1000,2500,5000,10000]\n"
   ]
  },
  {
   "cell_type": "markdown",
   "metadata": {},
   "source": [
    "### All for 1 unbound STV monomer - 300-800ns with ? frames"
   ]
  },
  {
   "cell_type": "code",
   "execution_count": null,
   "metadata": {},
   "outputs": [],
   "source": [
    "STV_A_polymer_transvib_smthframes = [mean([]), hold_for_2500_frames]\n",
    "STV_A_polymer_transvib_errors = [stdev([66.6001,67.2138,66.9121,67.2023,67.5760])/sqrt(5),]\n",
    "STV_A_polymer_rovib = [mean([]),hold_for_2500_frames]\n",
    "STV_A_polymer_rovib_errors = [stdev([])/sqrt(5),hold_for_2500_frames]\n",
    "\n",
    "STV_A_res_transvib = [2884.26262,hold_for_2500_frames]\n",
    "STV_A_res_transvib_erors = [12.098]\n",
    "STV_A_res_rovib = [4832.6832,hold_for_2500_frames]\n",
    "STV_A_res_rovib_errors = [59.845]\n",
    "\n",
    "STV_A_uatom_transvib = [2450.4804,hold_for_2500_frames]\n",
    "STV_A_uatom_transvib_errors = [50.099]\n",
    "STV_A_uatom_rovib = [3957.9194,hold_for_2500_frames]\n",
    "STV_A_uatom_rovib_errors = [18.923]       \n",
    "\n",
    "STV_A_uatom_AEM = [411.5956,hold_for_2500_frames]\n",
    "STV_A_uatom_AEM_erors = [9.986] \n",
    "STV_A_res_AEM = [53.21,hold_for_2500_frames] #from Sarah's code\n",
    "STV_A_res_AEM_errors = [1.38]"
   ]
  }
 ],
 "metadata": {
  "kernelspec": {
   "display_name": "base",
   "language": "python",
   "name": "python3"
  },
  "language_info": {
   "codemirror_mode": {
    "name": "ipython",
    "version": 3
   },
   "file_extension": ".py",
   "mimetype": "text/x-python",
   "name": "python",
   "nbconvert_exporter": "python",
   "pygments_lexer": "ipython3",
   "version": "3.12.2"
  }
 },
 "nbformat": 4,
 "nbformat_minor": 2
}
