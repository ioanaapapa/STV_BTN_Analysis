{
 "cells": [
  {
   "cell_type": "code",
   "execution_count": 4,
   "metadata": {},
   "outputs": [],
   "source": [
    "import numpy as np\n",
    "import pandas as pd\n",
    "from statistics import mean, stdev"
   ]
  },
  {
   "cell_type": "code",
   "execution_count": 5,
   "metadata": {},
   "outputs": [
    {
     "name": "stdout",
     "output_type": "stream",
     "text": [
      "AEM_values.out  STVA_500ns_2500frames.out  values.csv\n"
     ]
    }
   ],
   "source": [
    "ls CodeEntropy0.3"
   ]
  },
  {
   "cell_type": "code",
   "execution_count": 10,
   "metadata": {
    "vscode": {
     "languageId": "shellscript"
    }
   },
   "outputs": [
    {
     "name": "stdout",
     "output_type": "stream",
     "text": [
      "AEM_values.out\n",
      "STVA_500ns_2500frames.out\n"
     ]
    }
   ],
   "source": [
    "%%sh\n",
    "awk -F ' * *' '{print $9}' \"CodeEntropy0.3/STVA_500ns_2500frames.out\" > \"CodeEntropy0.3/AEM_values.out\"\n",
    "ls CodeEntropy0.3"
   ]
  },
  {
   "cell_type": "code",
   "execution_count": 6,
   "metadata": {
    "vscode": {
     "languageId": "shellscript"
    }
   },
   "outputs": [],
   "source": [
    "df_conf_entropies = pd.read_csv(\"values.csv\")"
   ]
  },
  {
   "cell_type": "code",
   "execution_count": 9,
   "metadata": {
    "vscode": {
     "languageId": "shellscript"
    }
   },
   "outputs": [
    {
     "name": "stdout",
     "output_type": "stream",
     "text": [
      "AEM_values.out\n",
      "STV_A_500ns_2500frames_resout.out\n"
     ]
    }
   ],
   "source": [
    "%%sh\n",
    "awk -F ' * *' '{print $5}' \"CodeEntropy1.0/STV_A_500ns_2500frames_resout.out\" > \"CodeEntropy1.0/AEM_values.out\"\n",
    "ls CodeEntropy1.0"
   ]
  }
 ],
 "metadata": {
  "kernelspec": {
   "display_name": "base",
   "language": "python",
   "name": "python3"
  },
  "language_info": {
   "codemirror_mode": {
    "name": "ipython",
    "version": 3
   },
   "file_extension": ".py",
   "mimetype": "text/x-python",
   "name": "python",
   "nbconvert_exporter": "python",
   "pygments_lexer": "ipython3",
   "version": "3.12.2"
  }
 },
 "nbformat": 4,
 "nbformat_minor": 2
}
